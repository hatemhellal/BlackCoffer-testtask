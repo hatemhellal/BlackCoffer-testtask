{
 "cells": [
  {
   "cell_type": "code",
   "execution_count": 1,
   "metadata": {
    "collapsed": true
   },
   "outputs": [
    {
     "data": {
      "text/plain": "152"
     },
     "execution_count": 1,
     "metadata": {},
     "output_type": "execute_result"
    }
   ],
   "source": [
    "import os\n",
    "import numpy as np\n",
    "import torch\n",
    "l=[i for i in os.listdir(\"./\") if i.startswith(\"00\")]\n",
    "len(l)"
   ]
  },
  {
   "cell_type": "code",
   "execution_count": 2,
   "outputs": [],
   "source": [
    "text_list=[]"
   ],
   "metadata": {
    "collapsed": false,
    "pycharm": {
     "name": "#%%\n"
    }
   }
  },
  {
   "cell_type": "code",
   "execution_count": 3,
   "outputs": [],
   "source": [
    "for i in range(len(l)):\n",
    "    with open(l[i],\"r\",encoding='utf-8') as f:\n",
    "        text=f.read()\n",
    "        text_list.append(text)"
   ],
   "metadata": {
    "collapsed": false,
    "pycharm": {
     "name": "#%%\n"
    }
   }
  },
  {
   "cell_type": "code",
   "execution_count": 4,
   "outputs": [],
   "source": [
    "import re\n",
    "import unicodedata\n",
    "TAG_RE = re.compile(r'<[^>]+>')\n",
    "from string import punctuation\n",
    "def strip_punctuation(text):\n",
    "    return ''.join(c for c in text if c not in punctuation)\n",
    "def remove_tags1(text):\n",
    "    return TAG_RE.sub('', text)\n",
    "def remove_newline(text):\n",
    "    return re.sub('\\n', '', text)\n",
    "def remove_tab(text):\n",
    "    return re.sub('\\t', '', text)\n",
    "def remove_xa(text):\n",
    "    new_str = unicodedata.normalize(\"NFKD\", text)\n",
    "    return new_str\n",
    "def remove_strange(text):\n",
    "    text=text.replace(\"&#160\",\"\")\n",
    "    text=text.replace(\"Â\",\"\")\n",
    "    return text"
   ],
   "metadata": {
    "collapsed": false,
    "pycharm": {
     "name": "#%%\n"
    }
   }
  },
  {
   "cell_type": "code",
   "execution_count": 5,
   "outputs": [
    {
     "name": "stderr",
     "output_type": "stream",
     "text": [
      "[nltk_data] Downloading package words to\n",
      "[nltk_data]     C:\\Users\\hatem\\AppData\\Roaming\\nltk_data...\n",
      "[nltk_data]   Package words is already up-to-date!\n"
     ]
    }
   ],
   "source": [
    "import nltk\n",
    "nltk.download('words')\n",
    "words = set(nltk.corpus.words.words())\n",
    "def join(text):\n",
    "    sent = \" \".join(w for w in nltk.wordpunct_tokenize(text) if w.lower() in words  or not w.isnumeric()  or not w.isalnum())\n",
    "    sent=\" \".join(w for w in sent.split(\" \") if not len(w)>30)\n",
    "    return sent"
   ],
   "metadata": {
    "collapsed": false,
    "pycharm": {
     "name": "#%%\n"
    }
   }
  },
  {
   "cell_type": "code",
   "execution_count": 6,
   "outputs": [],
   "source": [
    "text_list_cleaned=[]\n",
    "for text in text_list:\n",
    "    text=remove_tags1(text)\n",
    "    text=remove_xa(text)\n",
    "    text=remove_newline(text)\n",
    "    text=remove_tab(text)\n",
    "    text=remove_strange(text)\n",
    "    text=join(text)\n",
    "    text_list_cleaned.append(text)"
   ],
   "metadata": {
    "collapsed": false,
    "pycharm": {
     "name": "#%%\n"
    }
   }
  },
  {
   "cell_type": "code",
   "execution_count": 7,
   "outputs": [],
   "source": [
    "# Import the summarizer\n",
    "from sumy.summarizers.lsa import LsaSummarizer"
   ],
   "metadata": {
    "collapsed": false,
    "pycharm": {
     "name": "#%%\n"
    }
   }
  },
  {
   "cell_type": "code",
   "execution_count": 8,
   "outputs": [],
   "source": [
    "from sumy.nlp.tokenizers import Tokenizer\n",
    "from sumy.parsers.plaintext import PlaintextParser\n"
   ],
   "metadata": {
    "collapsed": false,
    "pycharm": {
     "name": "#%%\n"
    }
   }
  },
  {
   "cell_type": "code",
   "execution_count": 9,
   "outputs": [],
   "source": [
    "summary_list=[]"
   ],
   "metadata": {
    "collapsed": false,
    "pycharm": {
     "name": "#%%\n"
    }
   }
  },
  {
   "cell_type": "code",
   "execution_count": null,
   "outputs": [
    {
     "name": "stderr",
     "output_type": "stream",
     "text": [
      "C:\\Users\\hatem\\anaconda3\\lib\\site-packages\\sumy\\summarizers\\lsa.py:76: UserWarning: Number of words (3467) is lower than number of sentences (3687). LSA algorithm may not work properly.\n",
      "  warn(message % (words_count, sentences_count))\n",
      "C:\\Users\\hatem\\anaconda3\\lib\\site-packages\\sumy\\summarizers\\lsa.py:76: UserWarning: Number of words (2292) is lower than number of sentences (2563). LSA algorithm may not work properly.\n",
      "  warn(message % (words_count, sentences_count))\n",
      "C:\\Users\\hatem\\anaconda3\\lib\\site-packages\\sumy\\summarizers\\lsa.py:76: UserWarning: Number of words (4345) is lower than number of sentences (8234). LSA algorithm may not work properly.\n",
      "  warn(message % (words_count, sentences_count))\n",
      "C:\\Users\\hatem\\anaconda3\\lib\\site-packages\\sumy\\summarizers\\lsa.py:76: UserWarning: Number of words (2611) is lower than number of sentences (2647). LSA algorithm may not work properly.\n",
      "  warn(message % (words_count, sentences_count))\n",
      "C:\\Users\\hatem\\anaconda3\\lib\\site-packages\\sumy\\summarizers\\lsa.py:76: UserWarning: Number of words (3263) is lower than number of sentences (4101). LSA algorithm may not work properly.\n",
      "  warn(message % (words_count, sentences_count))\n",
      "C:\\Users\\hatem\\anaconda3\\lib\\site-packages\\sumy\\summarizers\\lsa.py:76: UserWarning: Number of words (5278) is lower than number of sentences (7462). LSA algorithm may not work properly.\n",
      "  warn(message % (words_count, sentences_count))\n",
      "C:\\Users\\hatem\\anaconda3\\lib\\site-packages\\sumy\\summarizers\\lsa.py:76: UserWarning: Number of words (5283) is lower than number of sentences (7496). LSA algorithm may not work properly.\n",
      "  warn(message % (words_count, sentences_count))\n",
      "C:\\Users\\hatem\\anaconda3\\lib\\site-packages\\sumy\\summarizers\\lsa.py:76: UserWarning: Number of words (2379) is lower than number of sentences (3001). LSA algorithm may not work properly.\n",
      "  warn(message % (words_count, sentences_count))\n",
      "C:\\Users\\hatem\\anaconda3\\lib\\site-packages\\sumy\\summarizers\\lsa.py:76: UserWarning: Number of words (4647) is lower than number of sentences (10314). LSA algorithm may not work properly.\n",
      "  warn(message % (words_count, sentences_count))\n",
      "C:\\Users\\hatem\\anaconda3\\lib\\site-packages\\sumy\\summarizers\\lsa.py:76: UserWarning: Number of words (2710) is lower than number of sentences (3045). LSA algorithm may not work properly.\n",
      "  warn(message % (words_count, sentences_count))\n",
      "C:\\Users\\hatem\\anaconda3\\lib\\site-packages\\sumy\\summarizers\\lsa.py:76: UserWarning: Number of words (3614) is lower than number of sentences (6600). LSA algorithm may not work properly.\n",
      "  warn(message % (words_count, sentences_count))\n",
      "C:\\Users\\hatem\\anaconda3\\lib\\site-packages\\sumy\\summarizers\\lsa.py:76: UserWarning: Number of words (550) is lower than number of sentences (979). LSA algorithm may not work properly.\n",
      "  warn(message % (words_count, sentences_count))\n",
      "C:\\Users\\hatem\\anaconda3\\lib\\site-packages\\sumy\\summarizers\\lsa.py:76: UserWarning: Number of words (572) is lower than number of sentences (958). LSA algorithm may not work properly.\n",
      "  warn(message % (words_count, sentences_count))\n",
      "C:\\Users\\hatem\\anaconda3\\lib\\site-packages\\sumy\\summarizers\\lsa.py:76: UserWarning: Number of words (4416) is lower than number of sentences (5420). LSA algorithm may not work properly.\n",
      "  warn(message % (words_count, sentences_count))\n",
      "C:\\Users\\hatem\\anaconda3\\lib\\site-packages\\sumy\\summarizers\\lsa.py:76: UserWarning: Number of words (1382) is lower than number of sentences (1707). LSA algorithm may not work properly.\n",
      "  warn(message % (words_count, sentences_count))\n",
      "C:\\Users\\hatem\\anaconda3\\lib\\site-packages\\sumy\\summarizers\\lsa.py:76: UserWarning: Number of words (3306) is lower than number of sentences (6689). LSA algorithm may not work properly.\n",
      "  warn(message % (words_count, sentences_count))\n",
      "C:\\Users\\hatem\\anaconda3\\lib\\site-packages\\sumy\\summarizers\\lsa.py:76: UserWarning: Number of words (1080) is lower than number of sentences (1217). LSA algorithm may not work properly.\n",
      "  warn(message % (words_count, sentences_count))\n",
      "C:\\Users\\hatem\\anaconda3\\lib\\site-packages\\sumy\\summarizers\\lsa.py:76: UserWarning: Number of words (1187) is lower than number of sentences (1557). LSA algorithm may not work properly.\n",
      "  warn(message % (words_count, sentences_count))\n",
      "C:\\Users\\hatem\\anaconda3\\lib\\site-packages\\sumy\\summarizers\\lsa.py:76: UserWarning: Number of words (1683) is lower than number of sentences (1946). LSA algorithm may not work properly.\n",
      "  warn(message % (words_count, sentences_count))\n",
      "C:\\Users\\hatem\\anaconda3\\lib\\site-packages\\sumy\\summarizers\\lsa.py:76: UserWarning: Number of words (3883) is lower than number of sentences (8392). LSA algorithm may not work properly.\n",
      "  warn(message % (words_count, sentences_count))\n",
      "C:\\Users\\hatem\\anaconda3\\lib\\site-packages\\sumy\\summarizers\\lsa.py:76: UserWarning: Number of words (1092) is lower than number of sentences (1296). LSA algorithm may not work properly.\n",
      "  warn(message % (words_count, sentences_count))\n",
      "C:\\Users\\hatem\\anaconda3\\lib\\site-packages\\sumy\\summarizers\\lsa.py:76: UserWarning: Number of words (1290) is lower than number of sentences (1804). LSA algorithm may not work properly.\n",
      "  warn(message % (words_count, sentences_count))\n",
      "C:\\Users\\hatem\\anaconda3\\lib\\site-packages\\sumy\\summarizers\\lsa.py:76: UserWarning: Number of words (1148) is lower than number of sentences (1763). LSA algorithm may not work properly.\n",
      "  warn(message % (words_count, sentences_count))\n",
      "C:\\Users\\hatem\\anaconda3\\lib\\site-packages\\sumy\\summarizers\\lsa.py:76: UserWarning: Number of words (2355) is lower than number of sentences (4101). LSA algorithm may not work properly.\n",
      "  warn(message % (words_count, sentences_count))\n",
      "C:\\Users\\hatem\\anaconda3\\lib\\site-packages\\sumy\\summarizers\\lsa.py:76: UserWarning: Number of words (2864) is lower than number of sentences (3559). LSA algorithm may not work properly.\n",
      "  warn(message % (words_count, sentences_count))\n",
      "C:\\Users\\hatem\\anaconda3\\lib\\site-packages\\sumy\\summarizers\\lsa.py:76: UserWarning: Number of words (3588) is lower than number of sentences (6447). LSA algorithm may not work properly.\n",
      "  warn(message % (words_count, sentences_count))\n",
      "C:\\Users\\hatem\\anaconda3\\lib\\site-packages\\sumy\\summarizers\\lsa.py:76: UserWarning: Number of words (1602) is lower than number of sentences (3632). LSA algorithm may not work properly.\n",
      "  warn(message % (words_count, sentences_count))\n",
      "C:\\Users\\hatem\\anaconda3\\lib\\site-packages\\sumy\\summarizers\\lsa.py:76: UserWarning: Number of words (1263) is lower than number of sentences (1406). LSA algorithm may not work properly.\n",
      "  warn(message % (words_count, sentences_count))\n",
      "C:\\Users\\hatem\\anaconda3\\lib\\site-packages\\sumy\\summarizers\\lsa.py:76: UserWarning: Number of words (1326) is lower than number of sentences (1766). LSA algorithm may not work properly.\n",
      "  warn(message % (words_count, sentences_count))\n",
      "C:\\Users\\hatem\\anaconda3\\lib\\site-packages\\sumy\\summarizers\\lsa.py:76: UserWarning: Number of words (1746) is lower than number of sentences (2753). LSA algorithm may not work properly.\n",
      "  warn(message % (words_count, sentences_count))\n",
      "C:\\Users\\hatem\\anaconda3\\lib\\site-packages\\sumy\\summarizers\\lsa.py:76: UserWarning: Number of words (3250) is lower than number of sentences (6417). LSA algorithm may not work properly.\n",
      "  warn(message % (words_count, sentences_count))\n",
      "C:\\Users\\hatem\\anaconda3\\lib\\site-packages\\sumy\\summarizers\\lsa.py:76: UserWarning: Number of words (3609) is lower than number of sentences (5306). LSA algorithm may not work properly.\n",
      "  warn(message % (words_count, sentences_count))\n",
      "C:\\Users\\hatem\\anaconda3\\lib\\site-packages\\sumy\\summarizers\\lsa.py:76: UserWarning: Number of words (1354) is lower than number of sentences (2430). LSA algorithm may not work properly.\n",
      "  warn(message % (words_count, sentences_count))\n",
      "C:\\Users\\hatem\\anaconda3\\lib\\site-packages\\sumy\\summarizers\\lsa.py:76: UserWarning: Number of words (2068) is lower than number of sentences (3630). LSA algorithm may not work properly.\n",
      "  warn(message % (words_count, sentences_count))\n",
      "C:\\Users\\hatem\\anaconda3\\lib\\site-packages\\sumy\\summarizers\\lsa.py:76: UserWarning: Number of words (3263) is lower than number of sentences (6829). LSA algorithm may not work properly.\n",
      "  warn(message % (words_count, sentences_count))\n",
      "C:\\Users\\hatem\\anaconda3\\lib\\site-packages\\sumy\\summarizers\\lsa.py:76: UserWarning: Number of words (1866) is lower than number of sentences (2007). LSA algorithm may not work properly.\n",
      "  warn(message % (words_count, sentences_count))\n",
      "C:\\Users\\hatem\\anaconda3\\lib\\site-packages\\sumy\\summarizers\\lsa.py:76: UserWarning: Number of words (5062) is lower than number of sentences (5825). LSA algorithm may not work properly.\n",
      "  warn(message % (words_count, sentences_count))\n",
      "C:\\Users\\hatem\\anaconda3\\lib\\site-packages\\sumy\\summarizers\\lsa.py:76: UserWarning: Number of words (3674) is lower than number of sentences (6015). LSA algorithm may not work properly.\n",
      "  warn(message % (words_count, sentences_count))\n",
      "C:\\Users\\hatem\\anaconda3\\lib\\site-packages\\sumy\\summarizers\\lsa.py:76: UserWarning: Number of words (4549) is lower than number of sentences (5184). LSA algorithm may not work properly.\n",
      "  warn(message % (words_count, sentences_count))\n",
      "C:\\Users\\hatem\\anaconda3\\lib\\site-packages\\sumy\\summarizers\\lsa.py:76: UserWarning: Number of words (4412) is lower than number of sentences (8022). LSA algorithm may not work properly.\n",
      "  warn(message % (words_count, sentences_count))\n"
     ]
    }
   ],
   "source": [
    "for i in text_list:\n",
    "    parser=PlaintextParser.from_string(i,Tokenizer('english'))\n",
    "    lsa_summarizer=LsaSummarizer()\n",
    "    lsa_summary= lsa_summarizer(parser.document,2)\n",
    "    ch=\"\"\n",
    "# Printing the summary\n",
    "    for sentence in lsa_summary:\n",
    "        ch+=str(sentence)\n",
    "    summary_list.append(ch)\n"
   ],
   "metadata": {
    "collapsed": false,
    "pycharm": {
     "name": "#%%\n",
     "is_executing": true
    }
   }
  },
  {
   "cell_type": "code",
   "execution_count": null,
   "outputs": [],
   "source": [
    "from transformers import AutoTokenizer, AutoModelForSequenceClassification\n",
    "path=\"C:/Users/hatem/Downloads/finBERT\"\n",
    "tokenizer = AutoTokenizer.from_pretrained(path)\n",
    "model = AutoModelForSequenceClassification.from_pretrained(path)"
   ],
   "metadata": {
    "collapsed": false,
    "pycharm": {
     "name": "#%%\n",
     "is_executing": true
    }
   }
  },
  {
   "cell_type": "code",
   "execution_count": null,
   "outputs": [],
   "source": [
    "def predict(text):\n",
    "    MAX_LEN = 160\n",
    "    class_names = ['negative', 'neutral', 'positive']\n",
    "\n",
    "    encoded_new = tokenizer.encode_plus(\n",
    "        text,  # Sentence to encode.\n",
    "        add_special_tokens=True,  # Add '[CLS]' and '[SEP]'\n",
    "        max_length=MAX_LEN,  # Pad & truncate all sentences.\n",
    "        pad_to_max_length=True,\n",
    "        return_attention_mask=True,  # Construct attn. masks.\n",
    "        # Return pytorch tensors.\n",
    "        return_tensors='pt',                                             )\n",
    "\n",
    "# Add the encoded sentence to the list.\n",
    "    input_idst = (encoded_new['input_ids'])\n",
    "    attention_maskst = (encoded_new['attention_mask'])\n",
    "\n",
    "# Convert the lists into tensors.\n",
    "    input_idst = torch.cat([input_idst], dim=0)\n",
    "    attention_maskst = torch.cat([attention_maskst], dim=0)\n",
    "\n",
    "    new_test_output = model(input_idst, token_type_ids=None,\n",
    "                        attention_mask=attention_maskst)\n",
    "\n",
    "    logits = new_test_output[0]\n",
    "    predicted = logits.detach().numpy()\n",
    "\n",
    "# Store predictions\n",
    "    flat_predictions = np.concatenate(predicted, axis=0)\n",
    "\n",
    "# For each sample, pick the label (0 or 1) with the higher score.\n",
    "    new_predictions = np.argmax(flat_predictions).flatten()\n",
    "\n",
    "    return class_names[new_predictions[0]]"
   ],
   "metadata": {
    "collapsed": false,
    "pycharm": {
     "name": "#%%\n",
     "is_executing": true
    }
   }
  },
  {
   "cell_type": "code",
   "execution_count": null,
   "outputs": [],
   "source": [
    "predictions=[]"
   ],
   "metadata": {
    "collapsed": false,
    "pycharm": {
     "name": "#%%\n",
     "is_executing": true
    }
   }
  },
  {
   "cell_type": "code",
   "execution_count": null,
   "outputs": [],
   "source": [
    "for summary in summary_list:\n",
    "   predictions.append(predict(summary))"
   ],
   "metadata": {
    "collapsed": false,
    "pycharm": {
     "name": "#%%\n",
     "is_executing": true
    }
   }
  }
 ],
 "metadata": {
  "kernelspec": {
   "display_name": "Python 3",
   "language": "python",
   "name": "python3"
  },
  "language_info": {
   "codemirror_mode": {
    "name": "ipython",
    "version": 2
   },
   "file_extension": ".py",
   "mimetype": "text/x-python",
   "name": "python",
   "nbconvert_exporter": "python",
   "pygments_lexer": "ipython2",
   "version": "2.7.6"
  }
 },
 "nbformat": 4,
 "nbformat_minor": 0
}